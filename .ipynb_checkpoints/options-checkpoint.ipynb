{
 "cells": [
  {
   "cell_type": "markdown",
   "metadata": {},
   "source": [
    "# Options with QuantLib\n",
    "This notebook combines examples found on the internet to begin getting familar with QuantLib\n",
    "and test out some very useful functionality. Below a European option is calculated using a Black,\n",
    "Scholes, Merton model and again using a calibrated Bates model."
   ]
  },
  {
   "cell_type": "markdown",
   "metadata": {},
   "source": [
    "## BSM Model\n",
    "A copied example helps ensure that the install completed and that Python/QuantLib setup is\n",
    "correct. [Gouthaman Balaraman's original](http://gouthamanbalaraman.com/blog/european-option-binomial-tree-quantlib-python.html)"
   ]
  },
  {
   "cell_type": "code",
   "execution_count": 1,
   "metadata": {
    "collapsed": true
   },
   "outputs": [],
   "source": [
    "import QuantLib as ql # version 1.5\n",
    "import numpy as np\n",
    "% matplotlib inline\n",
    "from mpl_toolkits.mplot3d import Axes3D\n",
    "import matplotlib.pyplot as plt\n",
    "from matplotlib import cm"
   ]
  },
  {
   "cell_type": "code",
   "execution_count": 2,
   "metadata": {
    "collapsed": true
   },
   "outputs": [],
   "source": [
    "# option data\n",
    "maturity_date = ql.Date(1, 1, 2018)\n",
    "spot_price = 2300\n",
    "strike_price = spot_price*1\n",
    "volatility = 0.20 # the historical vols for a year\n",
    "dividend_rate = 0.0\n",
    "option_type = ql.Option.Put\n",
    "risk_free_rate = 0.01\n",
    "day_count = ql.Actual365Fixed()\n",
    "calendar = ql.UnitedStates()\n",
    "calculation_date = ql.Date(1, 1, 2017)\n",
    "ql.Settings.instance().evaluationDate = calculation_date"
   ]
  },
  {
   "cell_type": "code",
   "execution_count": 3,
   "metadata": {
    "collapsed": true
   },
   "outputs": [],
   "source": [
    "# construct the European Option\n",
    "payoff = ql.PlainVanillaPayoff(option_type, strike_price)\n",
    "exercise = ql.EuropeanExercise(maturity_date)\n",
    "european_option = ql.VanillaOption(payoff, exercise)"
   ]
  },
  {
   "cell_type": "code",
   "execution_count": 4,
   "metadata": {
    "collapsed": true
   },
   "outputs": [],
   "source": [
    "spot_handle = ql.QuoteHandle(\n",
    "    ql.SimpleQuote(spot_price)\n",
    ")\n",
    "flat_ts = ql.YieldTermStructureHandle(\n",
    "    ql.FlatForward(calculation_date, risk_free_rate, day_count)\n",
    ")\n",
    "dividend_yield = ql.YieldTermStructureHandle(\n",
    "    ql.FlatForward(calculation_date, dividend_rate, day_count)\n",
    ")\n",
    "flat_vol_ts = ql.BlackVolTermStructureHandle(\n",
    "    ql.BlackConstantVol(calculation_date, calendar, volatility, day_count)\n",
    ")\n",
    "bsm_process = ql.BlackScholesMertonProcess(spot_handle, \n",
    "                                           dividend_yield, \n",
    "                                           flat_ts, \n",
    "                                           flat_vol_ts)"
   ]
  },
  {
   "cell_type": "code",
   "execution_count": 5,
   "metadata": {},
   "outputs": [
    {
     "name": "stdout",
     "output_type": "stream",
     "text": [
      "The theoretical price is  171.08094749560766\n",
      "The theoretical price is  0.5100727457343913\n",
      "The theoretical price is  934.2413021718826\n"
     ]
    }
   ],
   "source": [
    "european_option.setPricingEngine(ql.AnalyticEuropeanEngine(bsm_process))\n",
    "bs_price = european_option.NPV()\n",
    "print(\"The theoretical price is \", bs_price)\n",
    "\n",
    "payoff = ql.PlainVanillaPayoff(option_type, strike_price*.6)\n",
    "european_option = ql.VanillaOption(payoff, exercise)\n",
    "european_option.setPricingEngine(ql.AnalyticEuropeanEngine(bsm_process))\n",
    "bs_price = european_option.NPV()\n",
    "print(\"The theoretical price is \", bs_price)\n",
    "option_type = ql.Option.Call\n",
    "payoff = ql.PlainVanillaPayoff(option_type, strike_price*.6)\n",
    "european_option = ql.VanillaOption(payoff, exercise)\n",
    "european_option.setPricingEngine(ql.AnalyticEuropeanEngine(bsm_process))\n",
    "bs_price = european_option.NPV()\n",
    "print(\"The theoretical price is \", bs_price)"
   ]
  },
  {
   "cell_type": "markdown",
   "metadata": {},
   "source": [
    "## Bates Model"
   ]
  },
  {
   "cell_type": "code",
   "execution_count": 6,
   "metadata": {},
   "outputs": [
    {
     "name": "stdout",
     "output_type": "stream",
     "text": [
      "The theoretical price is  957.5517348360795\n"
     ]
    }
   ],
   "source": [
    "# These are sample parameters, will be calibrated\n",
    "bates_params = {'v0': .05, 'kappa': 3.7, 'theta': .05, \n",
    "                'sigma': 1.0, 'rho': -.6, 'lambda': .1, 'nu': -.5, 'delta': 0.3}\n",
    "bp = ql.BatesProcess(flat_ts, dividend_yield, spot_handle, bates_params['v0'],\n",
    "                    bates_params['kappa'], bates_params['theta'],\n",
    "                    bates_params['sigma'], bates_params['rho'],\n",
    "                    bates_params['lambda'], bates_params['nu'],\n",
    "                    bates_params['delta'])\n",
    "bm = ql.BatesModel(bp)\n",
    "be = ql.BatesEngine(bm)\n",
    "european_option.setPricingEngine(be)\n",
    "bates_price = european_option.NPV()\n",
    "print(\"The theoretical price is \", bates_price)"
   ]
  },
  {
   "cell_type": "markdown",
   "metadata": {},
   "source": [
    "### Calibration\n",
    "Based on examples from others: \n",
    "* [lballabio example](https://github.com/lballabio/QuantLib/blob/master/test-suite/batesmodel.cpp)\n",
    "* [Goutham Balaraman example](http://gouthamanbalaraman.com/blog/volatility-smile-heston-model-calibration-quantlib-python.html)\n",
    "\n",
    "Develeop sample data (constant volatility)"
   ]
  },
  {
   "cell_type": "code",
   "execution_count": 7,
   "metadata": {
    "collapsed": true
   },
   "outputs": [],
   "source": [
    "tenor = ql.Period(ql.Monthly)\n",
    "calendar = ql.UnitedStates()\n",
    "business_convention = ql.Following\n",
    "termination_business_convention = ql.Following\n",
    "date_generation = ql.DateGeneration.Forward\n",
    "end_of_month = False\n",
    "schedule = ql.Schedule(calculation_date,\n",
    "                    maturity_date,\n",
    "                    tenor,\n",
    "                    calendar,\n",
    "                    business_convention,\n",
    "                    termination_business_convention,\n",
    "                    date_generation,\n",
    "                    end_of_month)\n",
    "expiration_dates = list(schedule)\n",
    "strike_ratios = [.6, .7, .8, .9, 1, 1.1, 1.2, 1.3,1.4]\n",
    "strikes = [sr*spot_price for sr in strike_ratios]\n",
    "vols = [[volatility for i in range(len(expiration_dates))] for j in range(len(strikes))]\n",
    "black_var_surface = ql.BlackVarianceSurface(calculation_date, calendar,\n",
    "                                            expiration_dates, strikes,\n",
    "                                            vols, day_count)"
   ]
  },
  {
   "cell_type": "markdown",
   "metadata": {
    "collapsed": true
   },
   "source": [
    "Plot the volatility surface"
   ]
  },
  {
   "cell_type": "code",
   "execution_count": 8,
   "metadata": {},
   "outputs": [
    {
     "data": {
      "text/plain": [
       "<matplotlib.colorbar.Colorbar at 0x2d847d35f28>"
      ]
     },
     "execution_count": 8,
     "metadata": {},
     "output_type": "execute_result"
    },
    {
     "data": {
      "image/png": "[encoded data removed]",
      "text/plain": [
       "<matplotlib.figure.Figure at 0x2d8434ed048>"
      ]
     },
     "metadata": {},
     "output_type": "display_data"
    }
   ],
   "source": [
    "plot_years = np.arange(0, 1, 0.1)\n",
    "plot_strikes = np.arange(strikes[0], strikes[-1], 1)\n",
    "fig = plt.figure()\n",
    "ax = fig.gca(projection='3d')\n",
    "X, Y = np.meshgrid(plot_strikes, plot_years)\n",
    "Z = np.array([black_var_surface.blackVol(y, x)\n",
    "for xr, yr in zip(X, Y)\n",
    "for x, y in zip(xr,yr) ]\n",
    ").reshape(len(X), len(X[0]))\n",
    "surf = ax.plot_surface(X,Y,Z, rstride=1, cstride=1, cmap=cm.coolwarm,\n",
    "linewidth=0.1)\n",
    "fig.colorbar(surf, shrink=0.5, aspect=5)"
   ]
  },
  {
   "cell_type": "markdown",
   "metadata": {},
   "source": [
    "Perform the calibration using calibration helpers."
   ]
  },
  {
   "cell_type": "code",
   "execution_count": 9,
   "metadata": {},
   "outputs": [
    {
     "name": "stdout",
     "output_type": "stream",
     "text": [
      "[ 0.037006; 5.96099; 0.416819; -0.29157; 1.17099e-09; -0.414146; 0.172407; 0.0719315 ]\n",
      "9\n"
     ]
    }
   ],
   "source": [
    "heston_helpers = []\n",
    "black_var_surface.setInterpolation(\"bicubic\")\n",
    "date = expiration_dates[-1]\n",
    "engine = ql.BatesEngine(bm)\n",
    "for j, s in enumerate(strikes):\n",
    "    t = (date - calculation_date )\n",
    "    p = ql.Period(t, ql.Days)\n",
    "    sigma = vols[j][-1]\n",
    "    #sigma = black_var_surface.blackVol(t/365.25, s)\n",
    "    helper = ql.HestonModelHelper(p, calendar, spot_price, s,\n",
    "                                ql.QuoteHandle(ql.SimpleQuote(sigma)),\n",
    "                                flat_ts,\n",
    "                                dividend_yield)\n",
    "    helper.setPricingEngine(engine)\n",
    "    heston_helpers.append(helper)\n",
    "lm = ql.LevenbergMarquardt(1e-8, 1e-8, 1e-8)\n",
    "bm.calibrate(heston_helpers, lm,\n",
    "            ql.EndCriteria(500, 50, 1.0e-8,1.0e-8, 1.0e-8))\n",
    "print(bm.params())\n",
    "print(len(heston_helpers))"
   ]
  },
  {
   "cell_type": "code",
   "execution_count": 10,
   "metadata": {
    "collapsed": true
   },
   "outputs": [],
   "source": [
    "### Calibration Quality"
   ]
  },
  {
   "cell_type": "code",
   "execution_count": 11,
   "metadata": {},
   "outputs": [
    {
     "name": "stdout",
     "output_type": "stream",
     "text": [
      "        Strikes    Market Value     Model Value   Relative Error (%)\n",
      "======================================================================\n",
      "        1380.00        2.19289        10.06946          359.1862063 \n",
      "        1610.00       12.23853        25.88391          111.4952514 \n",
      "        1840.00       41.90839        57.50853           37.2243964 \n",
      "        2070.00      103.29368       114.42932           10.7805599 \n",
      "        2300.00      202.82941       205.47327            1.3034928 \n",
      "        2530.00      145.84521       140.69903           -3.5285272 \n",
      "        2760.00       86.32267        77.05178          -10.7398143 \n",
      "        2990.00       49.28009        39.56619          -19.7116164 \n",
      "        3220.00       27.31442        19.28905          -29.3814396 \n",
      "----------------------------------------------------------------------\n",
      "Average Abs Error (%) : 64.817\n"
     ]
    }
   ],
   "source": [
    "avg = 0.0\n",
    "print(\"%15s %15s %15s %20s\" % (\n",
    "\"Strikes\", \"Market Value\",\n",
    "\"Model Value\", \"Relative Error (%)\"))\n",
    "print(\"=\"*70)\n",
    "for i, opt in enumerate(heston_helpers):\n",
    "    err = (opt.modelValue()/opt.marketValue() - 1.0)\n",
    "    print(\"%15.2f %14.5f %15.5f %20.7f \" % (\n",
    "        strikes[i], opt.marketValue(),\n",
    "        opt.modelValue(),\n",
    "        100.0*(opt.modelValue()/opt.marketValue() - 1.0)))\n",
    "    avg += abs(err)\n",
    "avg = avg*100.0/len(heston_helpers)\n",
    "print(\"-\"*70)\n",
    "print(\"Average Abs Error (%%) : %5.3f\" % (avg))"
   ]
  },
  {
   "cell_type": "code",
   "execution_count": 12,
   "metadata": {},
   "outputs": [
    {
     "name": "stdout",
     "output_type": "stream",
     "text": [
      "The theoretical price is  939.2362426176956\n"
     ]
    }
   ],
   "source": [
    "#bp = ql.BatesProcess(flat_ts, dividend_yield, spot_handle, \n",
    "#                    bm.params()[0],bm.params()[1],\n",
    "#                    bm.params()[2], bm.params()[3],\n",
    "#                    bm.params()[4], bm.params()[5],\n",
    "#                    bm.params()[6], bm.params()[7])\n",
    "#bm = ql.BatesModel(bp)\n",
    "be = ql.BatesEngine(bm)\n",
    "european_option.setPricingEngine(be)\n",
    "bates_price = european_option.NPV()\n",
    "print(\"The theoretical price is \", bates_price)"
   ]
  },
  {
   "cell_type": "markdown",
   "metadata": {},
   "source": [
    "## Conclusion\n",
    "This exercise demonstrates the many possibilities of QuantLib and also leaves many questions to\n",
    "be answered.\n",
    "\n",
    "* How can the calibration be improved and how will starting pararmeters drive this?\n",
    "\n",
    "* In the Calibration Quality, how is Market Value calculated and why isn’t it closer to the Black-Scholes price above?"
   ]
  },
  {
   "cell_type": "code",
   "execution_count": 13,
   "metadata": {},
   "outputs": [
    {
     "name": "stdout",
     "output_type": "stream",
     "text": [
      "0.037006002601659475\n"
     ]
    }
   ],
   "source": [
    "print(bm.params()[0])"
   ]
  },
  {
   "cell_type": "code",
   "execution_count": 14,
   "metadata": {},
   "outputs": [
    {
     "name": "stdout",
     "output_type": "stream",
     "text": [
      "10.069460845266804\n"
     ]
    }
   ],
   "source": [
    "print(heston_helpers[0].modelValue())"
   ]
  },
  {
   "cell_type": "code",
   "execution_count": null,
   "metadata": {
    "collapsed": true
   },
   "outputs": [],
   "source": []
  }
 ],
 "metadata": {
  "kernelspec": {
   "display_name": "Python 3",
   "language": "python",
   "name": "python3"
  },
  "language_info": {
   "codemirror_mode": {
    "name": "ipython",
    "version": 3
   },
   "file_extension": ".py",
   "mimetype": "text/x-python",
   "name": "python",
   "nbconvert_exporter": "python",
   "pygments_lexer": "ipython3",
   "version": "3.6.1"
  }
 },
 "nbformat": 4,
 "nbformat_minor": 1
}
