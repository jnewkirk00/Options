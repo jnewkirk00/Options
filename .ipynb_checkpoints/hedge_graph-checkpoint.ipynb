{
 "cells": [
  {
   "cell_type": "markdown",
   "metadata": {},
   "source": [
    "# VA Hedge Position with QuantLib\n",
    "The VA equity hedge program uses equity futures and option on equity futures"
   ]
  },
  {
   "cell_type": "markdown",
   "metadata": {},
   "source": [
    "## BSM Model\n",
    "Set up a Black-Scholes-Merton model for the options."
   ]
  },
  {
   "cell_type": "code",
   "execution_count": 1,
   "metadata": {
    "collapsed": true
   },
   "outputs": [],
   "source": [
    "import QuantLib as ql # version 1.5\n",
    "import numpy as np\n",
    "% matplotlib inline\n",
    "from mpl_toolkits.mplot3d import Axes3D\n",
    "import matplotlib.pyplot as plt\n",
    "from matplotlib import cm"
   ]
  },
  {
   "cell_type": "code",
   "execution_count": 2,
   "metadata": {
    "collapsed": true
   },
   "outputs": [],
   "source": [
    "# calendar\n",
    "day_count = ql.Actual365Fixed()\n",
    "calendar = ql.UnitedStates()\n",
    "calculation_date = ql.Date(6, 12, 2017)\n",
    "ql.Settings.instance().evaluationDate = calculation_date\n",
    "\n",
    "# market\n",
    "put_volatility = 0.1688\n",
    "call_volatility = 0.1142\n",
    "dividend_rate = 0.01\n",
    "risk_free_rate = 0.01\n",
    "\n",
    "\n",
    "# option data\n",
    "maturity_date = ql.Date(16, 3, 2018)\n",
    "spot_price = 2631\n",
    "exercise = ql.EuropeanExercise(maturity_date)\n",
    "multiplier = 50\n",
    "\n",
    "# put option data\n",
    "put_strike_price = 2400\n",
    "put_payoff = ql.PlainVanillaPayoff(ql.Option.Put, put_strike_price)\n",
    "european_put_option = ql.VanillaOption(put_payoff, exercise)\n",
    "put_quantity = -6000\n",
    "\n",
    "# call option data\n",
    "call_strike_price = 2600\n",
    "call_payoff = ql.PlainVanillaPayoff(ql.Option.Call, call_strike_price)\n",
    "european_call_option = ql.VanillaOption(call_payoff, exercise)\n",
    "call_quantity = 6000\n"
   ]
  },
  {
   "cell_type": "code",
   "execution_count": 3,
   "metadata": {
    "collapsed": true
   },
   "outputs": [],
   "source": [
    "spot_handle = ql.QuoteHandle(\n",
    "    ql.SimpleQuote(spot_price)\n",
    ")\n",
    "flat_ts = ql.YieldTermStructureHandle(\n",
    "    ql.FlatForward(calculation_date, risk_free_rate, day_count)\n",
    ")\n",
    "dividend_yield = ql.YieldTermStructureHandle(\n",
    "    ql.FlatForward(calculation_date, dividend_rate, day_count)\n",
    ")\n",
    "put_flat_vol_ts = ql.BlackVolTermStructureHandle(\n",
    "    ql.BlackConstantVol(calculation_date, calendar, put_volatility, day_count)\n",
    ")\n",
    "call_flat_vol_ts = ql.BlackVolTermStructureHandle(\n",
    "    ql.BlackConstantVol(calculation_date, calendar, call_volatility, day_count)\n",
    ")\n",
    "bsm_process_put = ql.BlackScholesMertonProcess(spot_handle, \n",
    "                                           dividend_yield, \n",
    "                                           flat_ts, \n",
    "                                           put_flat_vol_ts)\n",
    "bsm_process_call = ql.BlackScholesMertonProcess(spot_handle, \n",
    "                                           dividend_yield, \n",
    "                                           flat_ts, \n",
    "                                           call_flat_vol_ts)"
   ]
  },
  {
   "cell_type": "code",
   "execution_count": 4,
   "metadata": {},
   "outputs": [
    {
     "name": "stdout",
     "output_type": "stream",
     "text": [
      "The theoretical price is  17.07086204824049\n",
      "This position value is  -5121258.614472147\n"
     ]
    }
   ],
   "source": [
    "european_put_option.setPricingEngine(ql.AnalyticEuropeanEngine(bsm_process_put))\n",
    "bs_put_price = european_put_option.NPV()\n",
    "print(\"The theoretical price is \", bs_put_price)\n",
    "print(\"This position value is \", bs_put_price*put_quantity*multiplier)"
   ]
  },
  {
   "cell_type": "code",
   "execution_count": 5,
   "metadata": {},
   "outputs": [
    {
     "name": "stdout",
     "output_type": "stream",
     "text": [
      "The theoretical price is  78.86716931236367\n",
      "This position value is  18538892.179236956\n"
     ]
    }
   ],
   "source": [
    "european_call_option.setPricingEngine(ql.AnalyticEuropeanEngine(bsm_process_call))\n",
    "bs_call_price = european_call_option.NPV()\n",
    "print(\"The theoretical price is \", bs_call_price)\n",
    "print(\"This position value is \", bs_put_price*put_quantity*multiplier+bs_call_price*call_quantity*multiplier)"
   ]
  },
  {
   "cell_type": "code",
   "execution_count": 6,
   "metadata": {},
   "outputs": [
    {
     "name": "stdout",
     "output_type": "stream",
     "text": [
      "This position value is  18538892.179236956\n"
     ]
    }
   ],
   "source": [
    "total_position_value = bs_put_price*put_quantity*multiplier+bs_call_price*call_quantity*multiplier\n",
    "print(\"This position value is \", total_position_value)"
   ]
  },
  {
   "cell_type": "markdown",
   "metadata": {},
   "source": [
    "## Price and Plot Options"
   ]
  },
  {
   "cell_type": "code",
   "execution_count": 7,
   "metadata": {
    "collapsed": true
   },
   "outputs": [],
   "source": [
    "def bsm_value(spot_price, option_type, output):\n",
    "    spot_handle = ql.QuoteHandle(ql.SimpleQuote(spot_price))\n",
    "    if option_type == ql.Option.Call:\n",
    "        bsm_process = ql.BlackScholesMertonProcess(spot_handle, \n",
    "                                               dividend_yield, \n",
    "                                               flat_ts, \n",
    "                                               call_flat_vol_ts)\n",
    "        european_call_option.setPricingEngine(ql.AnalyticEuropeanEngine(bsm_process))\n",
    "        option = european_call_option\n",
    "    elif option_type == ql.Option.Put:\n",
    "        bsm_process = ql.BlackScholesMertonProcess(spot_handle, \n",
    "                                               dividend_yield, \n",
    "                                               flat_ts, \n",
    "                                               put_flat_vol_ts)\n",
    "        european_put_option.setPricingEngine(ql.AnalyticEuropeanEngine(bsm_process))\n",
    "        option = european_put_option\n",
    "    \n",
    "    if (output == \"PREMIUM\"):\n",
    "        value = option.NPV()\n",
    "    elif (output == \"DELTA\"):\n",
    "        value = option.delta()\n",
    "    elif (output == \"GAMMA\"):\n",
    "        value = option.gamma()\n",
    "    elif (output == \"DIVRHO\"):\n",
    "        value = option.dividendRho()\n",
    "    elif (output == \"RHO\"):\n",
    "        value = option.rho()\n",
    "    elif (output == \"VEGA\"):\n",
    "        value = option.vega()\n",
    "    elif (output == \"THETA\"):\n",
    "        value = option.theta()\n",
    "    elif (output == \"DPDSTRIKE\"):\n",
    "        value = option.strikeSensitivity()\n",
    "    elif (output == \"THETADAY\"):\n",
    "        value = option.thetaPerDay()\n",
    "    \n",
    "    return value\n",
    "\n",
    "#plotmin = min([call_strike_price, put_strike_price, spot_price])-263\n",
    "plotmin = spot_price-263\n",
    "plotmax = max([call_strike_price, put_strike_price, spot_price])+263\n",
    "spot_prices = range(plotmin, plotmax, 1)\n",
    "\n",
    "put_option_values = [bsm_value(i, ql.Option.Put, \"PREMIUM\") for i in spot_prices]\n",
    "put_data = list(zip(spot_prices, put_option_values))\n",
    "put_option_position_value = [x*put_quantity*multiplier for x in put_option_values]\n",
    "\n",
    "call_option_values = [bsm_value(i, ql.Option.Call, \"PREMIUM\") for i in spot_prices]\n",
    "call_data = list(zip(spot_prices, call_option_values))\n",
    "call_option_position_value = [x*call_quantity*multiplier for x in call_option_values]\n",
    "\n",
    "options_position_value = [sum(x) for x in zip(put_option_position_value, call_option_position_value)]"
   ]
  },
  {
   "cell_type": "code",
   "execution_count": 8,
   "metadata": {},
   "outputs": [
    {
     "data": {
      "text/plain": [
       "<matplotlib.lines.Line2D at 0x228dcca7f98>"
      ]
     },
     "execution_count": 8,
     "metadata": {},
     "output_type": "execute_result"
    },
    {
     "data": {
      "image/png": "[encoded data removed]",
      "text/plain": [
       "<matplotlib.figure.Figure at 0x228dcfaeac8>"
      ]
     },
     "metadata": {},
     "output_type": "display_data"
    }
   ],
   "source": [
    "plt.plot(spot_prices, put_option_position_value, label=\"Option Graph\", lw=2, alpha=0.6)\n",
    "plt.plot(spot_prices, call_option_position_value)\n",
    "plt.plot(spot_prices, options_position_value)\n",
    "plt.axvline(x=spot_price, color=\"black\")"
   ]
  },
  {
   "cell_type": "code",
   "execution_count": 9,
   "metadata": {},
   "outputs": [
    {
     "data": {
      "text/plain": [
       "<matplotlib.lines.Line2D at 0x228dcd51eb8>"
      ]
     },
     "execution_count": 9,
     "metadata": {},
     "output_type": "execute_result"
    },
    {
     "data": {
      "image/png": "[encoded data removed]",
      "text/plain": [
       "<matplotlib.figure.Figure at 0x228dcf914e0>"
      ]
     },
     "metadata": {},
     "output_type": "display_data"
    }
   ],
   "source": [
    "put_option_values = [bsm_value(i, ql.Option.Put, \"DELTA\") for i in spot_prices]\n",
    "put_data = list(zip(spot_prices, put_option_values))\n",
    "put_option_position_value = [x*put_quantity*multiplier*.01*spot_price for x in put_option_values]\n",
    "\n",
    "call_option_values = [bsm_value(i, ql.Option.Call, \"DELTA\") for i in spot_prices]\n",
    "call_data = list(zip(spot_prices, call_option_values))\n",
    "call_option_position_value = [x*call_quantity*multiplier*.01*spot_price for x in call_option_values]\n",
    "\n",
    "options_position_value = [sum(x) for x in zip(put_option_position_value, call_option_position_value)]\n",
    "\n",
    "plt.plot(spot_prices, put_option_position_value, label=\"Option Graph\", lw=2, alpha=0.6)\n",
    "plt.plot(spot_prices, call_option_position_value)\n",
    "plt.plot(spot_prices, options_position_value)\n",
    "plt.axvline(x=spot_price, color=\"black\")"
   ]
  },
  {
   "cell_type": "code",
   "execution_count": 10,
   "metadata": {
    "collapsed": true
   },
   "outputs": [],
   "source": [
    "spot_price_up = spot_price*1.1\n",
    "spot_price_down = spot_price*.9\n",
    "spot_up_handle = ql.QuoteHandle(\n",
    "    ql.SimpleQuote(spot_price_up)\n",
    ")\n",
    "spot_down_handle = ql.QuoteHandle(\n",
    "    ql.SimpleQuote(spot_price_down)\n",
    ")\n",
    "bsm_process_put_up = ql.BlackScholesMertonProcess(spot_up_handle, \n",
    "                                           dividend_yield, \n",
    "                                           flat_ts, \n",
    "                                           put_flat_vol_ts)\n",
    "bsm_process_call_up = ql.BlackScholesMertonProcess(spot_up_handle, \n",
    "                                           dividend_yield, \n",
    "                                           flat_ts, \n",
    "                                           call_flat_vol_ts)\n",
    "bsm_process_put_down = ql.BlackScholesMertonProcess(spot_down_handle, \n",
    "                                           dividend_yield, \n",
    "                                           flat_ts, \n",
    "                                           put_flat_vol_ts)\n",
    "bsm_process_call_down = ql.BlackScholesMertonProcess(spot_down_handle, \n",
    "                                           dividend_yield, \n",
    "                                           flat_ts, \n",
    "                                           call_flat_vol_ts)"
   ]
  },
  {
   "cell_type": "code",
   "execution_count": 11,
   "metadata": {},
   "outputs": [
    {
     "name": "stdout",
     "output_type": "stream",
     "text": [
      "The theoretical price is  1.4246993416435494\n",
      "This position value is  -427409.80249306484\n",
      "The theoretical price is  295.67172496773765\n",
      "This position value is  88701517.4903213\n",
      "This position value is  88274107.68782823\n"
     ]
    }
   ],
   "source": [
    "european_put_option.setPricingEngine(ql.AnalyticEuropeanEngine(bsm_process_put_up))\n",
    "bs_put_price_up = european_put_option.NPV()\n",
    "bs_put_position_value_up = bs_put_price_up*put_quantity*multiplier\n",
    "print(\"The theoretical price is \", bs_put_price_up)\n",
    "print(\"This position value is \", bs_put_position_value_up)\n",
    "\n",
    "european_call_option.setPricingEngine(ql.AnalyticEuropeanEngine(bsm_process_call_up))\n",
    "bs_call_price_up = european_call_option.NPV()\n",
    "bs_call_position_value_up= bs_call_price_up*call_quantity*multiplier\n",
    "print(\"The theoretical price is \", bs_call_price_up)\n",
    "print(\"This position value is \", bs_call_price_up*call_quantity*multiplier)\n",
    "\n",
    "total_position_value_up = bs_put_position_value_up+bs_call_position_value_up\n",
    "print(\"This position value is \", total_position_value_up)"
   ]
  },
  {
   "cell_type": "code",
   "execution_count": 25,
   "metadata": {},
   "outputs": [
    {
     "name": "stdout",
     "output_type": "stream",
     "text": [
      "The theoretical price is 100.75 \n",
      "This position value is -30,224,713 \n",
      "The theoretical price is 3.74 \n",
      "This position value is 1,120,873 \n",
      "This position value is -29,103,840 \n"
     ]
    }
   ],
   "source": [
    "european_put_option.setPricingEngine(ql.AnalyticEuropeanEngine(bsm_process_put_down))\n",
    "bs_put_price_down = european_put_option.NPV()\n",
    "bs_put_position_value_down = bs_put_price_down*put_quantity*multiplier\n",
    "print(\"The theoretical price is {:,.2f} \".format(bs_put_price_down))\n",
    "print(\"This position value is {:,.0f} \".format(bs_put_position_value_down))\n",
    "\n",
    "european_call_option.setPricingEngine(ql.AnalyticEuropeanEngine(bsm_process_call_down))\n",
    "bs_call_price_down = european_call_option.NPV()\n",
    "bs_call_position_value_down= bs_call_price_down*call_quantity*multiplier\n",
    "print(\"The theoretical price is {:,.2f} \".format(bs_call_price_down))\n",
    "print(\"This position value is {:,.0f} \".format(bs_call_price_down*call_quantity*multiplier))\n",
    "\n",
    "total_position_value_down = bs_put_position_value_down+bs_call_position_value_down\n",
    "print(\"This position value is {:,.0f} \".format(total_position_value_down))"
   ]
  },
  {
   "cell_type": "code",
   "execution_count": 28,
   "metadata": {},
   "outputs": [
    {
     "name": "stdout",
     "output_type": "stream",
     "text": [
      "5,868,897 \n"
     ]
    }
   ],
   "source": [
    "print(\"{:,.0f} \".format((total_position_value_up-total_position_value_down)/2/10))"
   ]
  },
  {
   "cell_type": "code",
   "execution_count": 29,
   "metadata": {},
   "outputs": [
    {
     "name": "stdout",
     "output_type": "stream",
     "text": [
      "6,973,522 \n"
     ]
    }
   ],
   "source": [
    "print(\"{:,.0f} \".format((total_position_value_up-total_position_value)/10))"
   ]
  },
  {
   "cell_type": "code",
   "execution_count": 30,
   "metadata": {},
   "outputs": [
    {
     "name": "stdout",
     "output_type": "stream",
     "text": [
      "4,764,273 \n"
     ]
    }
   ],
   "source": [
    "print(\"{:,.0f} \".format((total_position_value-total_position_value_down)/10))"
   ]
  }
 ],
 "metadata": {
  "kernelspec": {
   "display_name": "Python 3",
   "language": "python",
   "name": "python3"
  },
  "language_info": {
   "codemirror_mode": {
    "name": "ipython",
    "version": 3
   },
   "file_extension": ".py",
   "mimetype": "text/x-python",
   "name": "python",
   "nbconvert_exporter": "python",
   "pygments_lexer": "ipython3",
   "version": "3.6.1"
  },
  "toc": {
   "colors": {
    "hover_highlight": "#DAA520",
    "navigate_num": "#000000",
    "navigate_text": "#333333",
    "running_highlight": "#FF0000",
    "selected_highlight": "#FFD700",
    "sidebar_border": "#EEEEEE",
    "wrapper_background": "#FFFFFF"
   },
   "moveMenuLeft": true,
   "nav_menu": {
    "height": "102px",
    "width": "252px"
   },
   "navigate_menu": true,
   "number_sections": true,
   "sideBar": true,
   "threshold": 4,
   "toc_cell": false,
   "toc_section_display": "block",
   "toc_window_display": false,
   "widenNotebook": false
  }
 },
 "nbformat": 4,
 "nbformat_minor": 1
}
